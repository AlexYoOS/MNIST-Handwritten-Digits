{
 "cells": [
  {
   "cell_type": "markdown",
   "metadata": {},
   "source": [
    "# Introduction\n",
    "\n",
    "In this project, you will build a neural network of your own design to evaluate the MNIST dataset.\n",
    "\n",
    "Some of the benchmark results on MNIST include can be found [on Yann LeCun's page](http://yann.lecun.com/exdb/mnist/) and include:\n",
    "\n",
    "88% [Lecun et al., 1998](http://yann.lecun.com/exdb/publis/pdf/lecun-98.pdf)\n",
    "95.3% [Lecun et al., 1998](http://yann.lecun.com/exdb/publis/pdf/lecun-98.pdf)\n",
    "99.65% [Ciresan et al., 2011](http://people.idsia.ch/~juergen/ijcai2011.pdf)\n",
    "\n",
    "MNIST is a great dataset for sanity checking your models, since the accuracy levels achieved by large convolutional neural networks and small linear models are both quite high. This makes it important to be familiar with the data.\n",
    "\n",
    "## Imports"
   ]
  },
  {
   "cell_type": "code",
   "execution_count": 1,
   "metadata": {},
   "outputs": [],
   "source": [
    "## This cell contains the essential imports you will need – DO NOT CHANGE THE CONTENTS! ##\n",
    "import torch\n",
    "import torch.nn as nn\n",
    "import torch.nn.functional as F\n",
    "import torch.optim as optim\n",
    "import torchvision\n",
    "import torchvision.transforms as transforms\n",
    "import matplotlib.pyplot as plt\n",
    "import numpy as np\n",
    "from torch.autograd import Variable\n",
    "from torch.utils.data.sampler import SubsetRandomSampler\n",
    "\n"
   ]
  },
  {
   "cell_type": "markdown",
   "metadata": {},
   "source": [
    "## Load the Dataset\n",
    "\n",
    "Specify your transforms as a list if you intend to .\n",
    "The transforms module is already loaded as `transforms`.\n",
    "\n",
    "MNIST is fortunately included in the torchvision module.\n",
    "Then, you can create your dataset using the `MNIST` object from `torchvision.datasets` ([the documentation is available here](https://pytorch.org/vision/stable/datasets.html#mnist)).\n",
    "Make sure to specify `download=True`! \n",
    "\n",
    "Once your dataset is created, you'll also need to define a `DataLoader` from the `torch.utils.data` module for both the train and the test set."
   ]
  },
  {
   "cell_type": "code",
   "execution_count": 2,
   "metadata": {},
   "outputs": [],
   "source": [
    "## Jupyter notebook had to be updated to accomodate my implemented functionalities\n",
    "\n",
    "#!pip install -U jupyter"
   ]
  },
  {
   "cell_type": "code",
   "execution_count": 3,
   "metadata": {},
   "outputs": [
    {
     "name": "stderr",
     "output_type": "stream",
     "text": [
      "/opt/conda/lib/python3.7/site-packages/torchvision/datasets/mnist.py:498: UserWarning: The given NumPy array is not writable, and PyTorch does not support non-writable tensors. This means writing to this tensor will result in undefined behavior. You may want to copy the array to protect its data or make it writable before converting it to a tensor. This type of warning will be suppressed for the rest of this program. (Triggered internally at  ../torch/csrc/utils/tensor_numpy.cpp:178.)\n",
      "  return torch.from_numpy(parsed.astype(m[2], copy=False)).view(*s)\n"
     ]
    }
   ],
   "source": [
    "# Define transforms\n",
    "\n",
    "transforms = transforms.Compose([\n",
    "        transforms.ToTensor(),\n",
    "        transforms.Normalize(mean=0.5, std=0.5)])\n",
    "\n",
    "\n",
    "# Create training set and define training dataloader\n",
    "\n",
    "trainset = torchvision.datasets.MNIST(root='./data', train=True, download=True, \n",
    "                            transform=transforms)\n",
    "\n",
    "testset = torchvision.datasets.MNIST(root='./data', train=False, download=True, \n",
    "                            transform=transforms)\n",
    "\n",
    "# obtain training indices that will be used for validation - using default method, SubsetRandomSampler since\n",
    "# Dataset is not Costum\n",
    "num_train = len(trainset)\n",
    "indices = list(range(num_train))\n",
    "np.random.shuffle(indices)\n",
    "split = int(np.floor(0.2 * num_train))\n",
    "train_idx, valid_idx = indices[split:], indices[:split]\n",
    "\n",
    "# define samplers for obtaining training and validation batches\n",
    "train_sampler = SubsetRandomSampler(train_idx)\n",
    "valid_sampler = SubsetRandomSampler(valid_idx)\n",
    "\n",
    "batch_size = 20\n",
    "\n",
    "# prepare data loaders (combine dataset and sampler)\n",
    "train_loader = torch.utils.data.DataLoader(trainset, batch_size=batch_size,\n",
    "    sampler=train_sampler)\n",
    "valid_loader = torch.utils.data.DataLoader(trainset, batch_size=batch_size, \n",
    "    sampler=valid_sampler)\n",
    "test_loader = torch.utils.data.DataLoader(testset, batch_size=batch_size)\n",
    "\n",
    "classes = [i for i in range(10)]"
   ]
  },
  {
   "cell_type": "markdown",
   "metadata": {},
   "source": [
    "## Justify your preprocessing\n",
    "\n",
    "In your own words, why did you choose the transforms you chose? If you didn't use any preprocessing steps, why not?"
   ]
  },
  {
   "cell_type": "markdown",
   "metadata": {},
   "source": [
    "I have worked on similar projects as this on multiple iterations, although a relatively low complexity of the task, I opted for a 3-way datasplit including a standard validation compartment. I have only used basic transforms and ommitted augmentations although augmentations on the trainingset could be experimented with, also there are numerous discussion on stackoverflow, [1](https://stackoverflow.com/questions/53808335/data-augmentation-in-validation), [2](https://stackoverflow.com/questions/48029542/data-augmentation-in-test-validation-set), which suggest potential benefits on additionally augmenting **validation data**. Conventionally, to have a realistic control for evaluating the models effectiveness I only applied basic transforms on the test set, this is a scientifc control. A relatively new technique that further process testdata is [TTA](https://arxiv.org/abs/2011.11156), which could be experimented with, with specific use cases and specific data, but should not be done here. \n",
    "\n",
    "At least the training data must be set to shuffle=True, and workers were not used either, the chosen batch size appears appropriate for the task."
   ]
  },
  {
   "cell_type": "markdown",
   "metadata": {},
   "source": [
    "## Explore the Dataset\n",
    "Using matplotlib, numpy, and torch, explore the dimensions of your data.\n",
    "\n",
    "You can view images using the `show5` function defined below – it takes a data loader as an argument.\n",
    "Remember that normalized images will look really weird to you! You may want to try changing your transforms to view images.\n",
    "Typically using no transforms other than `toTensor()` works well for viewing – but not as well for training your network.\n",
    "If `show5` doesn't work, go back and check your code for creating your data loaders and your training/test sets."
   ]
  },
  {
   "cell_type": "code",
   "execution_count": 4,
   "metadata": {},
   "outputs": [],
   "source": [
    "## This cell contains a function for showing 5 images from a dataloader – DO NOT CHANGE THE CONTENTS! ##\n",
    "def show5(img_loader):\n",
    "    dataiter = iter(img_loader)\n",
    "    \n",
    "    batch = next(dataiter)\n",
    "    labels = batch[1][0:5]\n",
    "    images = batch[0][0:5]\n",
    "    for i in range(5):\n",
    "        print(int(labels[i].detach()))\n",
    "    \n",
    "        image = images[i].numpy()\n",
    "        plt.imshow(image.T.squeeze().T)\n",
    "        plt.show()"
   ]
  },
  {
   "cell_type": "code",
   "execution_count": 5,
   "metadata": {
    "scrolled": false
   },
   "outputs": [
    {
     "name": "stdout",
     "output_type": "stream",
     "text": [
      "7\n"
     ]
    },
    {
     "data": {
      "image/png": "[encoded data removed]",
      "text/plain": [
       "<Figure size 432x288 with 1 Axes>"
      ]
     },
     "metadata": {
      "needs_background": "light"
     },
     "output_type": "display_data"
    },
    {
     "name": "stdout",
     "output_type": "stream",
     "text": [
      "2\n"
     ]
    },
    {
     "data": {
      "image/png": "[encoded data removed]",
      "text/plain": [
       "<Figure size 432x288 with 1 Axes>"
      ]
     },
     "metadata": {
      "needs_background": "light"
     },
     "output_type": "display_data"
    },
    {
     "name": "stdout",
     "output_type": "stream",
     "text": [
      "1\n"
     ]
    },
    {
     "data": {
      "image/png": "[encoded data removed]",
      "text/plain": [
       "<Figure size 432x288 with 1 Axes>"
      ]
     },
     "metadata": {
      "needs_background": "light"
     },
     "output_type": "display_data"
    },
    {
     "name": "stdout",
     "output_type": "stream",
     "text": [
      "0\n"
     ]
    },
    {
     "data": {
      "image/png": "[encoded data removed]",
      "text/plain": [
       "<Figure size 432x288 with 1 Axes>"
      ]
     },
     "metadata": {
      "needs_background": "light"
     },
     "output_type": "display_data"
    },
    {
     "name": "stdout",
     "output_type": "stream",
     "text": [
      "4\n"
     ]
    },
    {
     "data": {
      "image/png": "[encoded data removed]",
      "text/plain": [
       "<Figure size 432x288 with 1 Axes>"
      ]
     },
     "metadata": {
      "needs_background": "light"
     },
     "output_type": "display_data"
    }
   ],
   "source": [
    "show5(test_loader)"
   ]
  },
  {
   "cell_type": "code",
   "execution_count": 6,
   "metadata": {},
   "outputs": [
    {
     "data": {
      "image/png": "[encoded data removed]",
      "text/plain": [
       "<Figure size 432x288 with 1 Axes>"
      ]
     },
     "metadata": {
      "needs_background": "light"
     },
     "output_type": "display_data"
    },
    {
     "name": "stdout",
     "output_type": "stream",
     "text": [
      "GroundTruth for first row of testloader batch_size:\n",
      "      7      2      1      0      4      1      4      9      5      9\n"
     ]
    }
   ],
   "source": [
    "# Adding labels and reverting normalization step\n",
    "def imshow(img):\n",
    "    img = img / 2 + 0.5 \n",
    "    npimg = img.numpy()\n",
    "    plt.imshow(np.transpose(npimg, (1, 2, 0)))\n",
    "    plt.show()\n",
    "\n",
    "dataiter = iter(test_loader)\n",
    "inputs, labels = dataiter.next()\n",
    "\n",
    "# Images and Labels\n",
    "imshow(torchvision.utils.make_grid(inputs, nrow= 10))\n",
    "print('GroundTruth for first row of testloader batch_size:\\n', ' '.join('%6s' % classes[labels[j]] for j in range(10)))"
   ]
  },
  {
   "cell_type": "code",
   "execution_count": 7,
   "metadata": {
    "scrolled": true
   },
   "outputs": [
    {
     "name": "stdout",
     "output_type": "stream",
     "text": [
      "Size of trainingset: 2400\n",
      "Size of validationset: 600\n",
      "Size of testset: 10000\n",
      "Image shape:torch.Size([1, 28, 28])\n"
     ]
    }
   ],
   "source": [
    "# Further exploration of data\n",
    "print(f'Size of trainingset: {len(train_loader)}\\nSize of validationset: {len(valid_loader)}\\n\\\n",
    "Size of testset: {len(testset)}\\nImage shape:{trainset[0][0].shape}')"
   ]
  },
  {
   "cell_type": "markdown",
   "metadata": {},
   "source": [
    "## Build your Neural Network\n",
    "Using the layers in `torch.nn` (which has been imported as `nn`) and the `torch.nn.functional` module (imported as `F`), construct a neural network based on the parameters of the dataset.\n",
    "Use any architecture you like. \n",
    "\n",
    "*Note*: If you did not flatten your tensors in your transforms or as part of your preprocessing and you are using only `Linear` layers, make sure to use the `Flatten` layer in your network!"
   ]
  },
  {
   "cell_type": "code",
   "execution_count": 8,
   "metadata": {},
   "outputs": [],
   "source": [
    "device = torch.device('cuda' if torch.cuda.is_available() else 'cpu')"
   ]
  },
  {
   "cell_type": "code",
   "execution_count": 9,
   "metadata": {},
   "outputs": [
    {
     "name": "stdout",
     "output_type": "stream",
     "text": [
      "cuda\n"
     ]
    }
   ],
   "source": [
    "print(device)"
   ]
  },
  {
   "cell_type": "code",
   "execution_count": 10,
   "metadata": {
    "scrolled": true
   },
   "outputs": [
    {
     "name": "stdout",
     "output_type": "stream",
     "text": [
      "ModelClass(\n",
      "  (conv1): Conv2d(1, 16, kernel_size=(3, 3), stride=(1, 1), padding=(1, 1))\n",
      "  (conv2): Conv2d(16, 32, kernel_size=(3, 3), stride=(1, 1), padding=(1, 1))\n",
      "  (pool): MaxPool2d(kernel_size=2, stride=2, padding=0, dilation=1, ceil_mode=False)\n",
      "  (fc1): Linear(in_features=1568, out_features=120, bias=True)\n",
      "  (fc2): Linear(in_features=120, out_features=84, bias=True)\n",
      "  (fc3): Linear(in_features=84, out_features=10, bias=True)\n",
      ")\n"
     ]
    }
   ],
   "source": [
    "class ModelClass(nn.Module):\n",
    "    def __init__(self):\n",
    "        super(ModelClass, self).__init__()\n",
    "        \n",
    "        ## Grey scale Image with 1 color channel\n",
    "        # 1x28x28\n",
    "        self.conv1 = nn.Conv2d(1, 16, 3, padding=1) # kernel 3 and padding 1 leave dimensions unchanged in conv-layer\n",
    "        # 16x14x14\n",
    "        self.conv2 = nn.Conv2d(16, 32, 3, padding=1)\n",
    "        #32x7x7 \n",
    "        \n",
    "        # pooling layer\n",
    "        self.pool = nn.MaxPool2d(2, 2)\n",
    "        \n",
    "        # fully-connected layers\n",
    "        self.fc1 = nn.Linear(32 * 7 * 7, 120)\n",
    "        self.fc2 = nn.Linear(120, 84)\n",
    "        self.fc3 = nn.Linear(84, 10)\n",
    "               \n",
    "    def forward(self, x):\n",
    "        x = self.pool(F.relu(self.conv1(x)))\n",
    "        x = self.pool(F.relu(self.conv2(x)))\n",
    "        \n",
    "        #flatten Tensor\n",
    "        x = x.view(-1, 32 * 7 * 7)\n",
    "        \n",
    "        x = F.relu(self.fc1(x))\n",
    "        x = F.relu(self.fc2(x))\n",
    "        x = self.fc3(x)\n",
    "        \n",
    "        # return raw data for CrossEntropy() loss function\n",
    "        return x\n",
    "\n",
    "model = ModelClass()\n",
    "\n",
    "print(model)"
   ]
  },
  {
   "cell_type": "markdown",
   "metadata": {},
   "source": [
    "Specify a loss function and an optimizer, and instantiate the model.\n",
    "\n",
    "If you use a less common loss function, please note why you chose that loss function in a comment."
   ]
  },
  {
   "cell_type": "code",
   "execution_count": 11,
   "metadata": {},
   "outputs": [],
   "source": [
    "# Used CrossEntropyLoss which combines NLLLoss and LogSoftmax,\n",
    "# so raw data is fed in to the loss function\n",
    "criterion = nn.CrossEntropyLoss()\n",
    "\n",
    "# SGD generally has a slighly better performance for training in a higher number of epochs,\n",
    "# momentum is added for optimising the gradient step by weight averaging\n",
    "optimizer = optim.SGD(model.parameters(), lr=0.001, momentum=0.9)"
   ]
  },
  {
   "cell_type": "markdown",
   "metadata": {},
   "source": [
    "## Running your Neural Network\n",
    "Use whatever method you like to train your neural network, and ensure you record the average loss at each epoch. \n",
    "Don't forget to use `torch.device()` and the `.to()` method for both your model and your data if you are using GPU!\n",
    "\n",
    "If you want to print your loss **during** each epoch, you can use the `enumerate` function and print the loss after a set number of batches. 250 batches works well for most people!"
   ]
  },
  {
   "cell_type": "code",
   "execution_count": 12,
   "metadata": {
    "scrolled": false
   },
   "outputs": [],
   "source": [
    "# Training Pass\n",
    "\n",
    "def train(epochs, optimizer):\n",
    "    \n",
    "    # track change in validation loss starting value\n",
    "    valid_loss_min = np.Inf \n",
    "\n",
    "    # tracking for plotting\n",
    "    t_loss = []\n",
    "    v_loss = []\n",
    "    \n",
    "    for e in range(1, epochs+1):\n",
    "\n",
    "        # loss tracking    \n",
    "        train_loss = 0.0\n",
    "        valid_loss = 0.0\n",
    "    \n",
    "        ### TRAINING PASS\n",
    "    \n",
    "        model.to(device)\n",
    "        model.train()\n",
    "        for image, label in train_loader:\n",
    "            # data and model moved to device\n",
    "            image = image.to(device)\n",
    "            label = label.to(device)\n",
    "            # zeroing gradients\n",
    "            optimizer.zero_grad()\n",
    "            # forward pass\n",
    "            output = model(image)\n",
    "            # batch loss\n",
    "            loss = criterion(output, label)\n",
    "            # backpropagation step\n",
    "            loss.backward()\n",
    "            # optimization step according to learning rate\n",
    "            optimizer.step()\n",
    "            # update training loss\n",
    "            train_loss += loss.item()*image.size(0)\n",
    "        \n",
    "\n",
    "            ### VALIDATION PASS\n",
    "        \n",
    "        model.eval()\n",
    "        for image, label in valid_loader:\n",
    "            # data and model moved to device\n",
    "            image = image.to(device)\n",
    "            label = label.to(device)\n",
    "            # forward pass\n",
    "            output = model(image)\n",
    "            # batch loss\n",
    "            loss = criterion(output, label)\n",
    "        \n",
    "            # update average validation loss \n",
    "            valid_loss += loss.item()*image.size(0)\n",
    "        \n",
    "        \n",
    "        # average losses\n",
    "        train_loss = train_loss/len(train_loader.dataset)\n",
    "        valid_loss = valid_loss/len(valid_loader.dataset)\n",
    "    \n",
    "        # tracking for plotting\n",
    "        t_loss.append(train_loss)\n",
    "        v_loss.append(valid_loss)\n",
    "    \n",
    "        # stats \n",
    "        print(f'Epoch: {e} \\tTraining Loss: {train_loss:.6f} \\tValidation Loss: {valid_loss:.6f}')\n",
    "    \n",
    "        # model checkpointing\n",
    "        if valid_loss <= valid_loss_min:\n",
    "            print(f'Validation loss decreased ({valid_loss_min:.6f} --> {valid_loss:.6f}).  Checkpointing ...')\n",
    "            torch.save(model.state_dict(), 'checkpoint_MNIST.pt')\n",
    "            valid_loss_min = valid_loss\n",
    "        \n",
    "    return model, t_loss, v_loss"
   ]
  },
  {
   "cell_type": "code",
   "execution_count": 13,
   "metadata": {
    "scrolled": true
   },
   "outputs": [
    {
     "name": "stdout",
     "output_type": "stream",
     "text": [
      "Epoch: 1 \tTraining Loss: 0.776548 \tValidation Loss: 0.040938\n",
      "Validation loss decreased (inf --> 0.040938).  Checkpointing ...\n",
      "Epoch: 2 \tTraining Loss: 0.118882 \tValidation Loss: 0.021252\n",
      "Validation loss decreased (0.040938 --> 0.021252).  Checkpointing ...\n",
      "Epoch: 3 \tTraining Loss: 0.074963 \tValidation Loss: 0.015899\n",
      "Validation loss decreased (0.021252 --> 0.015899).  Checkpointing ...\n",
      "Epoch: 4 \tTraining Loss: 0.055254 \tValidation Loss: 0.011691\n",
      "Validation loss decreased (0.015899 --> 0.011691).  Checkpointing ...\n",
      "Epoch: 5 \tTraining Loss: 0.045906 \tValidation Loss: 0.011276\n",
      "Validation loss decreased (0.011691 --> 0.011276).  Checkpointing ...\n",
      "Epoch: 6 \tTraining Loss: 0.037498 \tValidation Loss: 0.014086\n",
      "Epoch: 7 \tTraining Loss: 0.032754 \tValidation Loss: 0.008874\n",
      "Validation loss decreased (0.011276 --> 0.008874).  Checkpointing ...\n",
      "Epoch: 8 \tTraining Loss: 0.028720 \tValidation Loss: 0.008898\n",
      "Epoch: 9 \tTraining Loss: 0.025163 \tValidation Loss: 0.008463\n",
      "Validation loss decreased (0.008874 --> 0.008463).  Checkpointing ...\n",
      "Epoch: 10 \tTraining Loss: 0.022883 \tValidation Loss: 0.007954\n",
      "Validation loss decreased (0.008463 --> 0.007954).  Checkpointing ...\n"
     ]
    }
   ],
   "source": [
    "# Train for 10 epochs with learning rate 0.001, momentum 0.9, not dropout\n",
    "model, t_loss, v_loss = train(10,optimizer)"
   ]
  },
  {
   "cell_type": "markdown",
   "metadata": {},
   "source": [
    "Plot the training loss (and validation loss/accuracy, if recorded)."
   ]
  },
  {
   "cell_type": "code",
   "execution_count": 14,
   "metadata": {
    "scrolled": false
   },
   "outputs": [
    {
     "data": {
      "image/png": "[encoded data removed]",
      "text/plain": [
       "<Figure size 936x360 with 1 Axes>"
      ]
     },
     "metadata": {
      "needs_background": "light"
     },
     "output_type": "display_data"
    }
   ],
   "source": [
    "## Plotting Training and Validation Losses\n",
    "\n",
    "plt.figure(figsize=(13,5))\n",
    "plt.title(\"Loss Plot\")\n",
    "plt.plot(v_loss,label=\"validation losses\")\n",
    "plt.plot(t_loss,label=\"training losses\")\n",
    "plt.xlabel(\"Batchruns\")\n",
    "plt.ylabel(\"Losses\")\n",
    "plt.legend()\n",
    "plt.show()\n"
   ]
  },
  {
   "cell_type": "markdown",
   "metadata": {},
   "source": [
    "## Testing your model\n",
    "Using the previously created `DataLoader` for the test set, compute the percentage of correct predictions using the highest probability prediction. \n",
    "\n",
    "If your accuracy is over 90%, great work, but see if you can push a bit further! \n",
    "If your accuracy is under 90%, you'll need to make improvements.\n",
    "Go back and check your model architecture, loss function, and optimizer to make sure they're appropriate for an image classification task."
   ]
  },
  {
   "cell_type": "code",
   "execution_count": 15,
   "metadata": {},
   "outputs": [],
   "source": [
    "def test():\n",
    "# track test loss\n",
    "    test_loss = 0.0\n",
    "    class_correct = list(0. for i in range(10))\n",
    "    class_total = list(0. for i in range(10))\n",
    "    model.to(device)\n",
    "    model.eval()\n",
    "    # forward pass on testdata\n",
    "    for image, label in test_loader:\n",
    "        # data and model moved to device\n",
    "        image = image.to(device)\n",
    "        label = label.to(device)\n",
    "    \n",
    "        output = model(image)\n",
    "        loss = criterion(output, label)\n",
    "        test_loss += loss.item()*image.size(0)\n",
    "        # propabilitities to class conversion\n",
    "        _, pred = torch.max(output, 1)    \n",
    "        # statistical comparison\n",
    "        correct_tensor = pred.eq(label.data.view_as(pred))\n",
    "        # cpu only (because np.array not Tensor)\n",
    "        correct = np.squeeze(correct_tensor.numpy()) if not torch.cuda.is_available() else np.squeeze(correct_tensor.cpu().numpy())\n",
    "        # accuracies\n",
    "        for i in range(batch_size):\n",
    "            truth = label.data[i]\n",
    "            class_correct[truth] += correct[i].item()\n",
    "            class_total[truth] += 1\n",
    "\n",
    "    # test loss \n",
    "    test_loss = test_loss/len(test_loader.dataset)\n",
    "    print(f'Test Loss: {test_loss:.6f}\\n')\n",
    "\n",
    "    print(f'Accuracy for Full Testset: {100. * np.sum(class_correct)/np.sum(class_total)}%  ({int(np.sum(class_correct))}/{int(np.sum(class_total))})')"
   ]
  },
  {
   "cell_type": "code",
   "execution_count": 16,
   "metadata": {},
   "outputs": [
    {
     "name": "stdout",
     "output_type": "stream",
     "text": [
      "Test Loss: 0.035322\n",
      "\n",
      "Accuracy for Full Testset: 98.71%  (9871/10000)\n"
     ]
    }
   ],
   "source": [
    "test()"
   ]
  },
  {
   "cell_type": "markdown",
   "metadata": {},
   "source": [
    "## Improving your model\n",
    "\n",
    "Once your model is done training, try tweaking your hyperparameters and training again below to improve your accuracy on the test set!"
   ]
  },
  {
   "cell_type": "code",
   "execution_count": 17,
   "metadata": {},
   "outputs": [
    {
     "name": "stdout",
     "output_type": "stream",
     "text": [
      "ModelClass(\n",
      "  (conv1): Conv2d(1, 16, kernel_size=(3, 3), stride=(1, 1), padding=(1, 1))\n",
      "  (conv2): Conv2d(16, 32, kernel_size=(3, 3), stride=(1, 1), padding=(1, 1))\n",
      "  (pool): MaxPool2d(kernel_size=2, stride=2, padding=0, dilation=1, ceil_mode=False)\n",
      "  (fc1): Linear(in_features=1568, out_features=120, bias=True)\n",
      "  (fc2): Linear(in_features=120, out_features=84, bias=True)\n",
      "  (fc3): Linear(in_features=84, out_features=10, bias=True)\n",
      "  (dropout): Dropout(p=0.2, inplace=False)\n",
      ")\n",
      "\n",
      "Start Training:\n",
      "Epoch: 1 \tTraining Loss: 1.831073 \tValidation Loss: 0.449247\n",
      "Validation loss decreased (inf --> 0.449247).  Checkpointing ...\n",
      "Epoch: 2 \tTraining Loss: 1.333839 \tValidation Loss: 0.135835\n",
      "Validation loss decreased (0.449247 --> 0.135835).  Checkpointing ...\n",
      "Epoch: 3 \tTraining Loss: 0.505085 \tValidation Loss: 0.067834\n",
      "Validation loss decreased (0.135835 --> 0.067834).  Checkpointing ...\n",
      "Epoch: 4 \tTraining Loss: 0.323133 \tValidation Loss: 0.045968\n",
      "Validation loss decreased (0.067834 --> 0.045968).  Checkpointing ...\n",
      "Epoch: 5 \tTraining Loss: 0.233765 \tValidation Loss: 0.035006\n",
      "Validation loss decreased (0.045968 --> 0.035006).  Checkpointing ...\n",
      "Epoch: 6 \tTraining Loss: 0.181764 \tValidation Loss: 0.026891\n",
      "Validation loss decreased (0.035006 --> 0.026891).  Checkpointing ...\n",
      "Epoch: 7 \tTraining Loss: 0.151411 \tValidation Loss: 0.023005\n",
      "Validation loss decreased (0.026891 --> 0.023005).  Checkpointing ...\n",
      "Epoch: 8 \tTraining Loss: 0.131569 \tValidation Loss: 0.019991\n",
      "Validation loss decreased (0.023005 --> 0.019991).  Checkpointing ...\n",
      "Epoch: 9 \tTraining Loss: 0.116202 \tValidation Loss: 0.017588\n",
      "Validation loss decreased (0.019991 --> 0.017588).  Checkpointing ...\n",
      "Epoch: 10 \tTraining Loss: 0.107477 \tValidation Loss: 0.016066\n",
      "Validation loss decreased (0.017588 --> 0.016066).  Checkpointing ...\n",
      "Epoch: 11 \tTraining Loss: 0.096854 \tValidation Loss: 0.014989\n",
      "Validation loss decreased (0.016066 --> 0.014989).  Checkpointing ...\n",
      "Epoch: 12 \tTraining Loss: 0.091462 \tValidation Loss: 0.013761\n",
      "Validation loss decreased (0.014989 --> 0.013761).  Checkpointing ...\n",
      "Epoch: 13 \tTraining Loss: 0.084779 \tValidation Loss: 0.012972\n",
      "Validation loss decreased (0.013761 --> 0.012972).  Checkpointing ...\n",
      "Epoch: 14 \tTraining Loss: 0.079142 \tValidation Loss: 0.012435\n",
      "Validation loss decreased (0.012972 --> 0.012435).  Checkpointing ...\n",
      "Epoch: 15 \tTraining Loss: 0.077875 \tValidation Loss: 0.011711\n",
      "Validation loss decreased (0.012435 --> 0.011711).  Checkpointing ...\n",
      "Epoch: 16 \tTraining Loss: 0.071874 \tValidation Loss: 0.011301\n",
      "Validation loss decreased (0.011711 --> 0.011301).  Checkpointing ...\n",
      "Epoch: 17 \tTraining Loss: 0.067752 \tValidation Loss: 0.011101\n",
      "Validation loss decreased (0.011301 --> 0.011101).  Checkpointing ...\n",
      "Epoch: 18 \tTraining Loss: 0.066884 \tValidation Loss: 0.010322\n",
      "Validation loss decreased (0.011101 --> 0.010322).  Checkpointing ...\n",
      "Epoch: 19 \tTraining Loss: 0.063702 \tValidation Loss: 0.010038\n",
      "Validation loss decreased (0.010322 --> 0.010038).  Checkpointing ...\n",
      "Epoch: 20 \tTraining Loss: 0.061255 \tValidation Loss: 0.009843\n",
      "Validation loss decreased (0.010038 --> 0.009843).  Checkpointing ...\n",
      "\n",
      "Testing the Model:\n",
      "Test Loss: 0.042573\n",
      "\n",
      "Accuracy for Full Testset: 98.75%  (9875/10000)\n"
     ]
    }
   ],
   "source": [
    "'''\n",
    "The model is already highly effective as the implementation is relatively extensive for the task at hand, for rubric satisfaction, it is experimented with hyperparamter:\n",
    "\n",
    "- learning rate\n",
    "- momentum of learning rate\n",
    "- dropout\n",
    "- number of epochs\n",
    "'''\n",
    "\n",
    "class ModelClass(nn.Module):\n",
    "    def __init__(self):\n",
    "        super(ModelClass, self).__init__()\n",
    "        \n",
    "        ## Grey scale Image with 1 color channel\n",
    "        # 1x28x28\n",
    "        self.conv1 = nn.Conv2d(1, 16, 3, padding=1) # kernel 3 and padding 1 leave dimensions stable in conv-layer\n",
    "        # 16x14x14\n",
    "        self.conv2 = nn.Conv2d(16, 32, 3, padding=1)\n",
    "        #32x7x7 \n",
    "        \n",
    "        # pool\n",
    "        self.pool = nn.MaxPool2d(2, 2)\n",
    "        \n",
    "        # fully-connected layers\n",
    "        self.fc1 = nn.Linear(32 * 7 * 7, 120)\n",
    "        self.fc2 = nn.Linear(120, 84)\n",
    "        self.fc3 = nn.Linear(84, 10)\n",
    "        # drop-out\n",
    "        self.dropout = nn.Dropout(0.20)\n",
    "        \n",
    "    def forward(self, x):\n",
    "        x = self.pool(F.relu(self.conv1(x)))\n",
    "        x = self.pool(F.relu(self.conv2(x)))\n",
    "        \n",
    "        #flatten Tensor\n",
    "        x = x.view(-1, 32 * 7 * 7)\n",
    "        \n",
    "        x = self.dropout(x)\n",
    "        x = F.relu(self.fc1(x))\n",
    "        \n",
    "        x = self.dropout(x)\n",
    "        x = F.relu(self.fc2(x))\n",
    "        \n",
    "        x = self.dropout(x)\n",
    "        x = self.fc3(x)\n",
    "        \n",
    "        # return raw data for CrossEntropy() loss function\n",
    "        return x\n",
    "\n",
    "\n",
    "model = ModelClass()\n",
    "print(model)\n",
    "\n",
    "optimizer = optim.SGD(model.parameters(), lr=0.0007, momentum=0.7)\n",
    "\n",
    "print(\"\\nStart Training:\")\n",
    "# Train for 20 epochs with learning rate 0.0007, momentum 0.7, 20% dropout\n",
    "train(20,optimizer)\n",
    "\n",
    "print(\"\\nTesting the Model:\")\n",
    "test()"
   ]
  },
  {
   "cell_type": "markdown",
   "metadata": {},
   "source": [
    "## Saving your model\n",
    "Using `torch.save`, save your model for future loading."
   ]
  },
  {
   "cell_type": "code",
   "execution_count": 18,
   "metadata": {},
   "outputs": [],
   "source": [
    "# Best model already saved during checkpointing but for rubric valdidation model saving applied here again\n",
    "torch.save(model, 'checkpoint.pth')"
   ]
  }
 ],
 "metadata": {
  "kernelspec": {
   "display_name": "Python 3",
   "language": "python",
   "name": "python3"
  },
  "language_info": {
   "codemirror_mode": {
    "name": "ipython",
    "version": 3
   },
   "file_extension": ".py",
   "mimetype": "text/x-python",
   "name": "python",
   "nbconvert_exporter": "python",
   "pygments_lexer": "ipython3",
   "version": "3.7.6"
  }
 },
 "nbformat": 4,
 "nbformat_minor": 4
}
